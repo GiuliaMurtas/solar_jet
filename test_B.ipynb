{
 "cells": [
  {
   "cell_type": "code",
   "execution_count": 3,
   "id": "c2b018f7-d857-4c30-9e13-2cf72cc3b076",
   "metadata": {},
   "outputs": [],
   "source": [
    "import argparse\n",
    "import errno\n",
    "import os\n",
    "\n",
    "import sys\n",
    "sys.path.insert(0, '/global/homes/g/gmurtas/athena/vis/python')\n",
    "import athena_read\n",
    "\n",
    "import matplotlib as mpl\n",
    "import matplotlib.pyplot as plt\n",
    "\n",
    "import matplotlib.animation as manimation\n",
    "\n",
    "import numpy as np\n",
    "from matplotlib import rc\n",
    "from matplotlib.colors import LogNorm\n",
    "\n",
    "import math\n",
    "import json\n",
    "\n",
    "import h5py\n",
    "import matplotlib.patches as patches\n",
    "from scipy.constants import physical_constants\n",
    "from scipy.interpolate import interp1d\n",
    "from scipy.ndimage.filters import median_filter, gaussian_filter\n",
    "from scipy.optimize import curve_fit\n",
    "from matplotlib import gridspec\n",
    "\n",
    "plt.rcParams['figure.dpi'] = 100"
   ]
  },
  {
   "cell_type": "code",
   "execution_count": 20,
   "id": "56877d85-6b3a-483f-bd2f-a0fe5c8b763b",
   "metadata": {
    "tags": []
   },
   "outputs": [],
   "source": [
    "def magnetic_field(show_plot=False):\n",
    "    \n",
    "    nx, ny, nz = 25, 25, 3\n",
    "    xi = np.linspace(-60, 0, nx)\n",
    "    yi = np.linspace(0, 80, ny)\n",
    "    zi = np.linspace(-3, 3, nz)\n",
    "    (xi,yi,zi) = np.meshgrid(xi,yi,zi)\n",
    "\n",
    "    B_polar = 1\n",
    "    xc0 = xi - 20\n",
    "    yc0 = yi - 40 \n",
    "    zc0 = zi + 10\n",
    "\n",
    "    Bx0 = xc0/np.power((np.power(xc0,2)+np.power(yc0,2)+np.power(zc0,2)),1.5)*B_polar\n",
    "    By0 = yc0/np.power((np.power(xc0,2)+np.power(yc0,2)+np.power(zc0,2)),1.5)*B_polar\n",
    "    Bz0 = 0.001 + zc0/np.power((np.power(xc0,2)+np.power(yc0,2)+np.power(zc0,2)),1.5)*B_polar\n",
    "\n",
    "    xc1 = xi - 30\n",
    "    yc1 = yi - 40\n",
    "    zc1 = zi + 10\n",
    "    Bx1 = Bx0 - xc1/np.power((np.power(xc1,2)+np.power(yc1,2)+np.power(zc1,2)),1.5)*B_polar*1.5\n",
    "    By1 = By0 - yc1/np.power((np.power(xc1,2)+np.power(yc1,2)+np.power(zc1,2)),1.5)*B_polar*1.5\n",
    "    Bz1 = Bz0 - zc1/np.power((np.power(xc1,2)+np.power(yc1,2)+np.power(zc1,2)),1.5)*B_polar*1.5\n",
    "\n",
    "    Bx2 = Bx1/1.5\n",
    "    By2 = By1/1.5\n",
    "    Bz2 = Bz1/1.5\n",
    "    \n",
    "    fig = plt.figure(figsize=[10.0, 6.0])\n",
    "    gs = gridspec.GridSpec(1,\n",
    "                           3,\n",
    "                           wspace=0,\n",
    "                           hspace=0,\n",
    "                           top=0.95,\n",
    "                           bottom=0.15,\n",
    "                           left=0.2,\n",
    "                           right=0.8)\n",
    "    rect = [0.11, 0.12, 0.7, 0.8]\n",
    "    \n",
    "    print(xi.shape,yi.shape,Bx2.shape,By2.shape)\n",
    "    \n",
    "    ax = fig.add_axes(rect)\n",
    "            \n",
    "    #strm = ax.streamplot(np.transpose(yi[:,:,0]),np.transpose(xi[:,:,0]), np.transpose(By2[:,:,0]), np.transpose(Bx2[:,:,0]), color=np.transpose(Bx2[:,:,0]), linewidth=2, cmap='autumn')\n",
    "    strm = ax.streamplot(xi[:,:,0],yi[:,:,0], Bx2[:,:,0],By2[:,:,0]+Bz2[:,:,0], color=Bx2[:,:,0], linewidth=2, cmap='autumn')\n",
    "    fig.colorbar(strm.lines)\n",
    "    ax.invert_xaxis()\n",
    "    ax.invert_yaxis()\n",
    "    \n",
    "    #plt.quiver(xi, yi, Bx2[:,:,0], By2[:,:,0], cmap='autumn')\n",
    "    ax.set_xlabel('x',fontsize=20)\n",
    "    ax.set_ylabel('y',fontsize=20)\n",
    "    ax.tick_params(labelsize=15)\n"
   ]
  },
  {
   "cell_type": "code",
   "execution_count": 21,
   "id": "d18bf166-29bc-4c7f-9251-4ccae003dad5",
   "metadata": {},
   "outputs": [
    {
     "name": "stdout",
     "output_type": "stream",
     "text": [
      "(25, 25, 3) (25, 25, 3) (25, 25, 3) (25, 25, 3)\n"
     ]
    }
   ],
   "source": [
    "magnetic_field(show_plot=True)\n",
    "plt.savefig(\"test_B.jpg\")\n",
    "plt.close()"
   ]
  },
  {
   "cell_type": "code",
   "execution_count": null,
   "id": "49a73408-2689-46ec-8634-dfd2ed36158e",
   "metadata": {},
   "outputs": [],
   "source": []
  }
 ],
 "metadata": {
  "kernelspec": {
   "display_name": "NERSC Python",
   "language": "python",
   "name": "python3"
  },
  "language_info": {
   "codemirror_mode": {
    "name": "ipython",
    "version": 3
   },
   "file_extension": ".py",
   "mimetype": "text/x-python",
   "name": "python",
   "nbconvert_exporter": "python",
   "pygments_lexer": "ipython3",
   "version": "3.9.7"
  }
 },
 "nbformat": 4,
 "nbformat_minor": 5
}
